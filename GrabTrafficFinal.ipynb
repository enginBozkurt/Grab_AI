{
 "cells": [
  {
   "cell_type": "code",
   "execution_count": 1,
   "metadata": {},
   "outputs": [
    {
     "name": "stdout",
     "output_type": "stream",
     "text": [
      "Requirement already satisfied: geohash in /home/ec2-user/anaconda3/envs/amazonei_tensorflow_p36/lib/python3.6/site-packages (1.0)\n",
      "Requirement already satisfied: docutils>=0.3 in /home/ec2-user/anaconda3/envs/amazonei_tensorflow_p36/lib/python3.6/site-packages (from geohash) (0.14)\n",
      "\u001b[33mYou are using pip version 10.0.1, however version 19.1.1 is available.\n",
      "You should consider upgrading via the 'pip install --upgrade pip' command.\u001b[0m\n"
     ]
    }
   ],
   "source": [
    "!pip install geohash"
   ]
  },
  {
   "cell_type": "code",
   "execution_count": 2,
   "metadata": {},
   "outputs": [
    {
     "name": "stdout",
     "output_type": "stream",
     "text": [
      "Requirement already satisfied: python-geohash in /home/ec2-user/anaconda3/envs/amazonei_tensorflow_p36/lib/python3.6/site-packages (0.8.5)\n",
      "\u001b[33mYou are using pip version 10.0.1, however version 19.1.1 is available.\n",
      "You should consider upgrading via the 'pip install --upgrade pip' command.\u001b[0m\n"
     ]
    }
   ],
   "source": [
    "!pip install python-geohash"
   ]
  },
  {
   "cell_type": "code",
   "execution_count": 3,
   "metadata": {},
   "outputs": [
    {
     "name": "stdout",
     "output_type": "stream",
     "text": [
      "Requirement already satisfied: Geohash in /home/ec2-user/anaconda3/envs/amazonei_tensorflow_p36/lib/python3.6/site-packages (1.0)\n",
      "Requirement already satisfied: docutils>=0.3 in /home/ec2-user/anaconda3/envs/amazonei_tensorflow_p36/lib/python3.6/site-packages (from Geohash) (0.14)\n",
      "\u001b[33mYou are using pip version 10.0.1, however version 19.1.1 is available.\n",
      "You should consider upgrading via the 'pip install --upgrade pip' command.\u001b[0m\n"
     ]
    }
   ],
   "source": [
    "!pip install Geohash"
   ]
  },
  {
   "cell_type": "code",
   "execution_count": 4,
   "metadata": {},
   "outputs": [],
   "source": [
    "import pandas as pd \n",
    "df=pd.read_csv('training.csv')"
   ]
  },
  {
   "cell_type": "code",
   "execution_count": 5,
   "metadata": {},
   "outputs": [
    {
     "name": "stdout",
     "output_type": "stream",
     "text": [
      "<class 'pandas.core.frame.DataFrame'>\n",
      "RangeIndex: 4206321 entries, 0 to 4206320\n",
      "Data columns (total 4 columns):\n",
      "geohash6     object\n",
      "day          int64\n",
      "timestamp    object\n",
      "demand       float64\n",
      "dtypes: float64(1), int64(1), object(2)\n",
      "memory usage: 128.4+ MB\n"
     ]
    }
   ],
   "source": [
    "df.info()"
   ]
  },
  {
   "cell_type": "code",
   "execution_count": 6,
   "metadata": {},
   "outputs": [],
   "source": [
    "# Get the longitude and latitude from the geohash\n",
    "def decodegeo(geo, which):\n",
    "  if len(geo) >= 6:\n",
    "    geodecoded =  Geohash.decode_exactly(geo)\n",
    "    return geodecoded[which] \n",
    "  else:\n",
    "    return 0"
   ]
  },
  {
   "cell_type": "code",
   "execution_count": 7,
   "metadata": {},
   "outputs": [],
   "source": [
    "import Geohash"
   ]
  },
  {
   "cell_type": "code",
   "execution_count": 8,
   "metadata": {},
   "outputs": [],
   "source": [
    "df['latitude'] = df['geohash6'].apply(lambda geo: decodegeo(geo, 0))\n",
    "df['longitude'] = df['geohash6'].apply(lambda geo: decodegeo(geo, 1))"
   ]
  },
  {
   "cell_type": "code",
   "execution_count": 9,
   "metadata": {},
   "outputs": [
    {
     "data": {
      "text/plain": [
       "geohash6      object\n",
       "day            int64\n",
       "timestamp     object\n",
       "demand       float64\n",
       "latitude     float64\n",
       "longitude    float64\n",
       "dtype: object"
      ]
     },
     "execution_count": 9,
     "metadata": {},
     "output_type": "execute_result"
    }
   ],
   "source": [
    "df.dtypes"
   ]
  },
  {
   "cell_type": "code",
   "execution_count": 10,
   "metadata": {},
   "outputs": [],
   "source": [
    "df = df.sort_values(by=['geohash6','day','timestamp'])"
   ]
  },
  {
   "cell_type": "code",
   "execution_count": 11,
   "metadata": {},
   "outputs": [
    {
     "data": {
      "text/html": [
       "<div>\n",
       "<style scoped>\n",
       "    .dataframe tbody tr th:only-of-type {\n",
       "        vertical-align: middle;\n",
       "    }\n",
       "\n",
       "    .dataframe tbody tr th {\n",
       "        vertical-align: top;\n",
       "    }\n",
       "\n",
       "    .dataframe thead th {\n",
       "        text-align: right;\n",
       "    }\n",
       "</style>\n",
       "<table border=\"1\" class=\"dataframe\">\n",
       "  <thead>\n",
       "    <tr style=\"text-align: right;\">\n",
       "      <th></th>\n",
       "      <th>geohash6</th>\n",
       "      <th>day</th>\n",
       "      <th>timestamp</th>\n",
       "      <th>demand</th>\n",
       "      <th>latitude</th>\n",
       "      <th>longitude</th>\n",
       "    </tr>\n",
       "  </thead>\n",
       "  <tbody>\n",
       "    <tr>\n",
       "      <th>2021861</th>\n",
       "      <td>qp02yc</td>\n",
       "      <td>1</td>\n",
       "      <td>11:15</td>\n",
       "      <td>0.013487</td>\n",
       "      <td>-5.484924</td>\n",
       "      <td>90.653687</td>\n",
       "    </tr>\n",
       "    <tr>\n",
       "      <th>1403484</th>\n",
       "      <td>qp02yc</td>\n",
       "      <td>1</td>\n",
       "      <td>12:0</td>\n",
       "      <td>0.003709</td>\n",
       "      <td>-5.484924</td>\n",
       "      <td>90.653687</td>\n",
       "    </tr>\n",
       "    <tr>\n",
       "      <th>2873712</th>\n",
       "      <td>qp02yc</td>\n",
       "      <td>1</td>\n",
       "      <td>2:45</td>\n",
       "      <td>0.020592</td>\n",
       "      <td>-5.484924</td>\n",
       "      <td>90.653687</td>\n",
       "    </tr>\n",
       "    <tr>\n",
       "      <th>2643238</th>\n",
       "      <td>qp02yc</td>\n",
       "      <td>1</td>\n",
       "      <td>3:0</td>\n",
       "      <td>0.010292</td>\n",
       "      <td>-5.484924</td>\n",
       "      <td>90.653687</td>\n",
       "    </tr>\n",
       "    <tr>\n",
       "      <th>1791986</th>\n",
       "      <td>qp02yc</td>\n",
       "      <td>1</td>\n",
       "      <td>4:0</td>\n",
       "      <td>0.006676</td>\n",
       "      <td>-5.484924</td>\n",
       "      <td>90.653687</td>\n",
       "    </tr>\n",
       "  </tbody>\n",
       "</table>\n",
       "</div>"
      ],
      "text/plain": [
       "        geohash6  day timestamp    demand  latitude  longitude\n",
       "2021861   qp02yc    1     11:15  0.013487 -5.484924  90.653687\n",
       "1403484   qp02yc    1      12:0  0.003709 -5.484924  90.653687\n",
       "2873712   qp02yc    1      2:45  0.020592 -5.484924  90.653687\n",
       "2643238   qp02yc    1       3:0  0.010292 -5.484924  90.653687\n",
       "1791986   qp02yc    1       4:0  0.006676 -5.484924  90.653687"
      ]
     },
     "execution_count": 11,
     "metadata": {},
     "output_type": "execute_result"
    }
   ],
   "source": [
    "df.head(5)"
   ]
  },
  {
   "cell_type": "code",
   "execution_count": 12,
   "metadata": {},
   "outputs": [],
   "source": [
    "import numpy as np\n",
    "import matplotlib.pyplot as plt\n",
    "import scipy.stats as stats\n",
    "import seaborn as sns"
   ]
  },
  {
   "cell_type": "code",
   "execution_count": 13,
   "metadata": {},
   "outputs": [],
   "source": [
    "def time_preperation(dataframe):\n",
    "    dataframe[['hour', 'min']] = dataframe['timestamp'].str.split(':', expand=True)      \n",
    "    return dataframe"
   ]
  },
  {
   "cell_type": "code",
   "execution_count": 14,
   "metadata": {},
   "outputs": [
    {
     "data": {
      "text/html": [
       "<div>\n",
       "<style scoped>\n",
       "    .dataframe tbody tr th:only-of-type {\n",
       "        vertical-align: middle;\n",
       "    }\n",
       "\n",
       "    .dataframe tbody tr th {\n",
       "        vertical-align: top;\n",
       "    }\n",
       "\n",
       "    .dataframe thead th {\n",
       "        text-align: right;\n",
       "    }\n",
       "</style>\n",
       "<table border=\"1\" class=\"dataframe\">\n",
       "  <thead>\n",
       "    <tr style=\"text-align: right;\">\n",
       "      <th></th>\n",
       "      <th>geohash6</th>\n",
       "      <th>day</th>\n",
       "      <th>timestamp</th>\n",
       "      <th>demand</th>\n",
       "      <th>latitude</th>\n",
       "      <th>longitude</th>\n",
       "      <th>hour</th>\n",
       "      <th>min</th>\n",
       "    </tr>\n",
       "  </thead>\n",
       "  <tbody>\n",
       "    <tr>\n",
       "      <th>2021861</th>\n",
       "      <td>qp02yc</td>\n",
       "      <td>1</td>\n",
       "      <td>11:15</td>\n",
       "      <td>0.013487</td>\n",
       "      <td>-5.484924</td>\n",
       "      <td>90.653687</td>\n",
       "      <td>11</td>\n",
       "      <td>15</td>\n",
       "    </tr>\n",
       "    <tr>\n",
       "      <th>1403484</th>\n",
       "      <td>qp02yc</td>\n",
       "      <td>1</td>\n",
       "      <td>12:0</td>\n",
       "      <td>0.003709</td>\n",
       "      <td>-5.484924</td>\n",
       "      <td>90.653687</td>\n",
       "      <td>12</td>\n",
       "      <td>0</td>\n",
       "    </tr>\n",
       "    <tr>\n",
       "      <th>2873712</th>\n",
       "      <td>qp02yc</td>\n",
       "      <td>1</td>\n",
       "      <td>2:45</td>\n",
       "      <td>0.020592</td>\n",
       "      <td>-5.484924</td>\n",
       "      <td>90.653687</td>\n",
       "      <td>2</td>\n",
       "      <td>45</td>\n",
       "    </tr>\n",
       "    <tr>\n",
       "      <th>2643238</th>\n",
       "      <td>qp02yc</td>\n",
       "      <td>1</td>\n",
       "      <td>3:0</td>\n",
       "      <td>0.010292</td>\n",
       "      <td>-5.484924</td>\n",
       "      <td>90.653687</td>\n",
       "      <td>3</td>\n",
       "      <td>0</td>\n",
       "    </tr>\n",
       "    <tr>\n",
       "      <th>1791986</th>\n",
       "      <td>qp02yc</td>\n",
       "      <td>1</td>\n",
       "      <td>4:0</td>\n",
       "      <td>0.006676</td>\n",
       "      <td>-5.484924</td>\n",
       "      <td>90.653687</td>\n",
       "      <td>4</td>\n",
       "      <td>0</td>\n",
       "    </tr>\n",
       "    <tr>\n",
       "      <th>4022333</th>\n",
       "      <td>qp02yc</td>\n",
       "      <td>1</td>\n",
       "      <td>4:30</td>\n",
       "      <td>0.003822</td>\n",
       "      <td>-5.484924</td>\n",
       "      <td>90.653687</td>\n",
       "      <td>4</td>\n",
       "      <td>30</td>\n",
       "    </tr>\n",
       "    <tr>\n",
       "      <th>3848343</th>\n",
       "      <td>qp02yc</td>\n",
       "      <td>1</td>\n",
       "      <td>6:45</td>\n",
       "      <td>0.011131</td>\n",
       "      <td>-5.484924</td>\n",
       "      <td>90.653687</td>\n",
       "      <td>6</td>\n",
       "      <td>45</td>\n",
       "    </tr>\n",
       "    <tr>\n",
       "      <th>1754613</th>\n",
       "      <td>qp02yc</td>\n",
       "      <td>2</td>\n",
       "      <td>12:0</td>\n",
       "      <td>0.006989</td>\n",
       "      <td>-5.484924</td>\n",
       "      <td>90.653687</td>\n",
       "      <td>12</td>\n",
       "      <td>0</td>\n",
       "    </tr>\n",
       "    <tr>\n",
       "      <th>886989</th>\n",
       "      <td>qp02yc</td>\n",
       "      <td>2</td>\n",
       "      <td>22:45</td>\n",
       "      <td>0.031419</td>\n",
       "      <td>-5.484924</td>\n",
       "      <td>90.653687</td>\n",
       "      <td>22</td>\n",
       "      <td>45</td>\n",
       "    </tr>\n",
       "    <tr>\n",
       "      <th>897330</th>\n",
       "      <td>qp02yc</td>\n",
       "      <td>2</td>\n",
       "      <td>4:30</td>\n",
       "      <td>0.011041</td>\n",
       "      <td>-5.484924</td>\n",
       "      <td>90.653687</td>\n",
       "      <td>4</td>\n",
       "      <td>30</td>\n",
       "    </tr>\n",
       "    <tr>\n",
       "      <th>4014082</th>\n",
       "      <td>qp02yc</td>\n",
       "      <td>2</td>\n",
       "      <td>5:0</td>\n",
       "      <td>0.040743</td>\n",
       "      <td>-5.484924</td>\n",
       "      <td>90.653687</td>\n",
       "      <td>5</td>\n",
       "      <td>0</td>\n",
       "    </tr>\n",
       "    <tr>\n",
       "      <th>2613081</th>\n",
       "      <td>qp02yc</td>\n",
       "      <td>2</td>\n",
       "      <td>8:45</td>\n",
       "      <td>0.026320</td>\n",
       "      <td>-5.484924</td>\n",
       "      <td>90.653687</td>\n",
       "      <td>8</td>\n",
       "      <td>45</td>\n",
       "    </tr>\n",
       "    <tr>\n",
       "      <th>2319843</th>\n",
       "      <td>qp02yc</td>\n",
       "      <td>3</td>\n",
       "      <td>4:15</td>\n",
       "      <td>0.012687</td>\n",
       "      <td>-5.484924</td>\n",
       "      <td>90.653687</td>\n",
       "      <td>4</td>\n",
       "      <td>15</td>\n",
       "    </tr>\n",
       "    <tr>\n",
       "      <th>2378396</th>\n",
       "      <td>qp02yc</td>\n",
       "      <td>3</td>\n",
       "      <td>5:15</td>\n",
       "      <td>0.027531</td>\n",
       "      <td>-5.484924</td>\n",
       "      <td>90.653687</td>\n",
       "      <td>5</td>\n",
       "      <td>15</td>\n",
       "    </tr>\n",
       "    <tr>\n",
       "      <th>1185822</th>\n",
       "      <td>qp02yc</td>\n",
       "      <td>3</td>\n",
       "      <td>6:30</td>\n",
       "      <td>0.005432</td>\n",
       "      <td>-5.484924</td>\n",
       "      <td>90.653687</td>\n",
       "      <td>6</td>\n",
       "      <td>30</td>\n",
       "    </tr>\n",
       "    <tr>\n",
       "      <th>3433787</th>\n",
       "      <td>qp02yc</td>\n",
       "      <td>3</td>\n",
       "      <td>6:45</td>\n",
       "      <td>0.037369</td>\n",
       "      <td>-5.484924</td>\n",
       "      <td>90.653687</td>\n",
       "      <td>6</td>\n",
       "      <td>45</td>\n",
       "    </tr>\n",
       "    <tr>\n",
       "      <th>1131501</th>\n",
       "      <td>qp02yc</td>\n",
       "      <td>3</td>\n",
       "      <td>8:0</td>\n",
       "      <td>0.001456</td>\n",
       "      <td>-5.484924</td>\n",
       "      <td>90.653687</td>\n",
       "      <td>8</td>\n",
       "      <td>0</td>\n",
       "    </tr>\n",
       "    <tr>\n",
       "      <th>4051660</th>\n",
       "      <td>qp02yc</td>\n",
       "      <td>3</td>\n",
       "      <td>8:30</td>\n",
       "      <td>0.014042</td>\n",
       "      <td>-5.484924</td>\n",
       "      <td>90.653687</td>\n",
       "      <td>8</td>\n",
       "      <td>30</td>\n",
       "    </tr>\n",
       "    <tr>\n",
       "      <th>3588340</th>\n",
       "      <td>qp02yc</td>\n",
       "      <td>3</td>\n",
       "      <td>9:45</td>\n",
       "      <td>0.027179</td>\n",
       "      <td>-5.484924</td>\n",
       "      <td>90.653687</td>\n",
       "      <td>9</td>\n",
       "      <td>45</td>\n",
       "    </tr>\n",
       "    <tr>\n",
       "      <th>207244</th>\n",
       "      <td>qp02yc</td>\n",
       "      <td>4</td>\n",
       "      <td>10:15</td>\n",
       "      <td>0.014625</td>\n",
       "      <td>-5.484924</td>\n",
       "      <td>90.653687</td>\n",
       "      <td>10</td>\n",
       "      <td>15</td>\n",
       "    </tr>\n",
       "    <tr>\n",
       "      <th>1877045</th>\n",
       "      <td>qp02yc</td>\n",
       "      <td>4</td>\n",
       "      <td>10:45</td>\n",
       "      <td>0.022054</td>\n",
       "      <td>-5.484924</td>\n",
       "      <td>90.653687</td>\n",
       "      <td>10</td>\n",
       "      <td>45</td>\n",
       "    </tr>\n",
       "    <tr>\n",
       "      <th>3572253</th>\n",
       "      <td>qp02yc</td>\n",
       "      <td>4</td>\n",
       "      <td>11:0</td>\n",
       "      <td>0.016541</td>\n",
       "      <td>-5.484924</td>\n",
       "      <td>90.653687</td>\n",
       "      <td>11</td>\n",
       "      <td>0</td>\n",
       "    </tr>\n",
       "    <tr>\n",
       "      <th>639251</th>\n",
       "      <td>qp02yc</td>\n",
       "      <td>4</td>\n",
       "      <td>11:30</td>\n",
       "      <td>0.007581</td>\n",
       "      <td>-5.484924</td>\n",
       "      <td>90.653687</td>\n",
       "      <td>11</td>\n",
       "      <td>30</td>\n",
       "    </tr>\n",
       "    <tr>\n",
       "      <th>279309</th>\n",
       "      <td>qp02yc</td>\n",
       "      <td>4</td>\n",
       "      <td>13:0</td>\n",
       "      <td>0.005394</td>\n",
       "      <td>-5.484924</td>\n",
       "      <td>90.653687</td>\n",
       "      <td>13</td>\n",
       "      <td>0</td>\n",
       "    </tr>\n",
       "    <tr>\n",
       "      <th>1674368</th>\n",
       "      <td>qp02yc</td>\n",
       "      <td>4</td>\n",
       "      <td>3:30</td>\n",
       "      <td>0.018839</td>\n",
       "      <td>-5.484924</td>\n",
       "      <td>90.653687</td>\n",
       "      <td>3</td>\n",
       "      <td>30</td>\n",
       "    </tr>\n",
       "    <tr>\n",
       "      <th>1295779</th>\n",
       "      <td>qp02yc</td>\n",
       "      <td>4</td>\n",
       "      <td>4:0</td>\n",
       "      <td>0.012716</td>\n",
       "      <td>-5.484924</td>\n",
       "      <td>90.653687</td>\n",
       "      <td>4</td>\n",
       "      <td>0</td>\n",
       "    </tr>\n",
       "    <tr>\n",
       "      <th>1336225</th>\n",
       "      <td>qp02yc</td>\n",
       "      <td>4</td>\n",
       "      <td>4:15</td>\n",
       "      <td>0.029508</td>\n",
       "      <td>-5.484924</td>\n",
       "      <td>90.653687</td>\n",
       "      <td>4</td>\n",
       "      <td>15</td>\n",
       "    </tr>\n",
       "    <tr>\n",
       "      <th>414668</th>\n",
       "      <td>qp02yc</td>\n",
       "      <td>4</td>\n",
       "      <td>4:30</td>\n",
       "      <td>0.057966</td>\n",
       "      <td>-5.484924</td>\n",
       "      <td>90.653687</td>\n",
       "      <td>4</td>\n",
       "      <td>30</td>\n",
       "    </tr>\n",
       "    <tr>\n",
       "      <th>3129611</th>\n",
       "      <td>qp02yc</td>\n",
       "      <td>4</td>\n",
       "      <td>5:0</td>\n",
       "      <td>0.032100</td>\n",
       "      <td>-5.484924</td>\n",
       "      <td>90.653687</td>\n",
       "      <td>5</td>\n",
       "      <td>0</td>\n",
       "    </tr>\n",
       "    <tr>\n",
       "      <th>1370043</th>\n",
       "      <td>qp02yc</td>\n",
       "      <td>4</td>\n",
       "      <td>5:15</td>\n",
       "      <td>0.021253</td>\n",
       "      <td>-5.484924</td>\n",
       "      <td>90.653687</td>\n",
       "      <td>5</td>\n",
       "      <td>15</td>\n",
       "    </tr>\n",
       "    <tr>\n",
       "      <th>...</th>\n",
       "      <td>...</td>\n",
       "      <td>...</td>\n",
       "      <td>...</td>\n",
       "      <td>...</td>\n",
       "      <td>...</td>\n",
       "      <td>...</td>\n",
       "      <td>...</td>\n",
       "      <td>...</td>\n",
       "    </tr>\n",
       "    <tr>\n",
       "      <th>1256345</th>\n",
       "      <td>qp0dnn</td>\n",
       "      <td>48</td>\n",
       "      <td>19:45</td>\n",
       "      <td>0.007751</td>\n",
       "      <td>-5.237732</td>\n",
       "      <td>90.972290</td>\n",
       "      <td>19</td>\n",
       "      <td>45</td>\n",
       "    </tr>\n",
       "    <tr>\n",
       "      <th>1134175</th>\n",
       "      <td>qp0dnn</td>\n",
       "      <td>48</td>\n",
       "      <td>4:30</td>\n",
       "      <td>0.000738</td>\n",
       "      <td>-5.237732</td>\n",
       "      <td>90.972290</td>\n",
       "      <td>4</td>\n",
       "      <td>30</td>\n",
       "    </tr>\n",
       "    <tr>\n",
       "      <th>4158551</th>\n",
       "      <td>qp0dnn</td>\n",
       "      <td>49</td>\n",
       "      <td>22:45</td>\n",
       "      <td>0.002617</td>\n",
       "      <td>-5.237732</td>\n",
       "      <td>90.972290</td>\n",
       "      <td>22</td>\n",
       "      <td>45</td>\n",
       "    </tr>\n",
       "    <tr>\n",
       "      <th>3462907</th>\n",
       "      <td>qp0dnn</td>\n",
       "      <td>49</td>\n",
       "      <td>23:0</td>\n",
       "      <td>0.004067</td>\n",
       "      <td>-5.237732</td>\n",
       "      <td>90.972290</td>\n",
       "      <td>23</td>\n",
       "      <td>0</td>\n",
       "    </tr>\n",
       "    <tr>\n",
       "      <th>3469170</th>\n",
       "      <td>qp0dnn</td>\n",
       "      <td>51</td>\n",
       "      <td>10:0</td>\n",
       "      <td>0.030558</td>\n",
       "      <td>-5.237732</td>\n",
       "      <td>90.972290</td>\n",
       "      <td>10</td>\n",
       "      <td>0</td>\n",
       "    </tr>\n",
       "    <tr>\n",
       "      <th>2023048</th>\n",
       "      <td>qp0dnn</td>\n",
       "      <td>52</td>\n",
       "      <td>10:30</td>\n",
       "      <td>0.005091</td>\n",
       "      <td>-5.237732</td>\n",
       "      <td>90.972290</td>\n",
       "      <td>10</td>\n",
       "      <td>30</td>\n",
       "    </tr>\n",
       "    <tr>\n",
       "      <th>1375887</th>\n",
       "      <td>qp0dnn</td>\n",
       "      <td>52</td>\n",
       "      <td>7:30</td>\n",
       "      <td>0.002420</td>\n",
       "      <td>-5.237732</td>\n",
       "      <td>90.972290</td>\n",
       "      <td>7</td>\n",
       "      <td>30</td>\n",
       "    </tr>\n",
       "    <tr>\n",
       "      <th>2232297</th>\n",
       "      <td>qp0dnn</td>\n",
       "      <td>54</td>\n",
       "      <td>13:0</td>\n",
       "      <td>0.004463</td>\n",
       "      <td>-5.237732</td>\n",
       "      <td>90.972290</td>\n",
       "      <td>13</td>\n",
       "      <td>0</td>\n",
       "    </tr>\n",
       "    <tr>\n",
       "      <th>3134720</th>\n",
       "      <td>qp0dnn</td>\n",
       "      <td>55</td>\n",
       "      <td>22:15</td>\n",
       "      <td>0.000550</td>\n",
       "      <td>-5.237732</td>\n",
       "      <td>90.972290</td>\n",
       "      <td>22</td>\n",
       "      <td>15</td>\n",
       "    </tr>\n",
       "    <tr>\n",
       "      <th>454615</th>\n",
       "      <td>qp0dnn</td>\n",
       "      <td>56</td>\n",
       "      <td>10:15</td>\n",
       "      <td>0.016509</td>\n",
       "      <td>-5.237732</td>\n",
       "      <td>90.972290</td>\n",
       "      <td>10</td>\n",
       "      <td>15</td>\n",
       "    </tr>\n",
       "    <tr>\n",
       "      <th>2070445</th>\n",
       "      <td>qp0dnn</td>\n",
       "      <td>56</td>\n",
       "      <td>10:30</td>\n",
       "      <td>0.005008</td>\n",
       "      <td>-5.237732</td>\n",
       "      <td>90.972290</td>\n",
       "      <td>10</td>\n",
       "      <td>30</td>\n",
       "    </tr>\n",
       "    <tr>\n",
       "      <th>3235647</th>\n",
       "      <td>qp0dnn</td>\n",
       "      <td>56</td>\n",
       "      <td>10:45</td>\n",
       "      <td>0.026476</td>\n",
       "      <td>-5.237732</td>\n",
       "      <td>90.972290</td>\n",
       "      <td>10</td>\n",
       "      <td>45</td>\n",
       "    </tr>\n",
       "    <tr>\n",
       "      <th>3842677</th>\n",
       "      <td>qp0dnn</td>\n",
       "      <td>56</td>\n",
       "      <td>11:15</td>\n",
       "      <td>0.015455</td>\n",
       "      <td>-5.237732</td>\n",
       "      <td>90.972290</td>\n",
       "      <td>11</td>\n",
       "      <td>15</td>\n",
       "    </tr>\n",
       "    <tr>\n",
       "      <th>1924623</th>\n",
       "      <td>qp0dnn</td>\n",
       "      <td>56</td>\n",
       "      <td>22:30</td>\n",
       "      <td>0.012714</td>\n",
       "      <td>-5.237732</td>\n",
       "      <td>90.972290</td>\n",
       "      <td>22</td>\n",
       "      <td>30</td>\n",
       "    </tr>\n",
       "    <tr>\n",
       "      <th>1754867</th>\n",
       "      <td>qp0dnn</td>\n",
       "      <td>56</td>\n",
       "      <td>9:15</td>\n",
       "      <td>0.015596</td>\n",
       "      <td>-5.237732</td>\n",
       "      <td>90.972290</td>\n",
       "      <td>9</td>\n",
       "      <td>15</td>\n",
       "    </tr>\n",
       "    <tr>\n",
       "      <th>3442116</th>\n",
       "      <td>qp0dnn</td>\n",
       "      <td>56</td>\n",
       "      <td>9:30</td>\n",
       "      <td>0.016088</td>\n",
       "      <td>-5.237732</td>\n",
       "      <td>90.972290</td>\n",
       "      <td>9</td>\n",
       "      <td>30</td>\n",
       "    </tr>\n",
       "    <tr>\n",
       "      <th>883595</th>\n",
       "      <td>qp0dnn</td>\n",
       "      <td>57</td>\n",
       "      <td>10:0</td>\n",
       "      <td>0.015804</td>\n",
       "      <td>-5.237732</td>\n",
       "      <td>90.972290</td>\n",
       "      <td>10</td>\n",
       "      <td>0</td>\n",
       "    </tr>\n",
       "    <tr>\n",
       "      <th>2068134</th>\n",
       "      <td>qp0dnn</td>\n",
       "      <td>57</td>\n",
       "      <td>10:15</td>\n",
       "      <td>0.006540</td>\n",
       "      <td>-5.237732</td>\n",
       "      <td>90.972290</td>\n",
       "      <td>10</td>\n",
       "      <td>15</td>\n",
       "    </tr>\n",
       "    <tr>\n",
       "      <th>3763207</th>\n",
       "      <td>qp0dnn</td>\n",
       "      <td>57</td>\n",
       "      <td>10:30</td>\n",
       "      <td>0.005616</td>\n",
       "      <td>-5.237732</td>\n",
       "      <td>90.972290</td>\n",
       "      <td>10</td>\n",
       "      <td>30</td>\n",
       "    </tr>\n",
       "    <tr>\n",
       "      <th>3811470</th>\n",
       "      <td>qp0dnn</td>\n",
       "      <td>57</td>\n",
       "      <td>9:15</td>\n",
       "      <td>0.000220</td>\n",
       "      <td>-5.237732</td>\n",
       "      <td>90.972290</td>\n",
       "      <td>9</td>\n",
       "      <td>15</td>\n",
       "    </tr>\n",
       "    <tr>\n",
       "      <th>3678995</th>\n",
       "      <td>qp0dnn</td>\n",
       "      <td>57</td>\n",
       "      <td>9:30</td>\n",
       "      <td>0.016268</td>\n",
       "      <td>-5.237732</td>\n",
       "      <td>90.972290</td>\n",
       "      <td>9</td>\n",
       "      <td>30</td>\n",
       "    </tr>\n",
       "    <tr>\n",
       "      <th>2202839</th>\n",
       "      <td>qp0dnn</td>\n",
       "      <td>59</td>\n",
       "      <td>10:30</td>\n",
       "      <td>0.017128</td>\n",
       "      <td>-5.237732</td>\n",
       "      <td>90.972290</td>\n",
       "      <td>10</td>\n",
       "      <td>30</td>\n",
       "    </tr>\n",
       "    <tr>\n",
       "      <th>2329890</th>\n",
       "      <td>qp0dnn</td>\n",
       "      <td>59</td>\n",
       "      <td>2:0</td>\n",
       "      <td>0.002340</td>\n",
       "      <td>-5.237732</td>\n",
       "      <td>90.972290</td>\n",
       "      <td>2</td>\n",
       "      <td>0</td>\n",
       "    </tr>\n",
       "    <tr>\n",
       "      <th>2523853</th>\n",
       "      <td>qp0dnn</td>\n",
       "      <td>59</td>\n",
       "      <td>8:15</td>\n",
       "      <td>0.009144</td>\n",
       "      <td>-5.237732</td>\n",
       "      <td>90.972290</td>\n",
       "      <td>8</td>\n",
       "      <td>15</td>\n",
       "    </tr>\n",
       "    <tr>\n",
       "      <th>673156</th>\n",
       "      <td>qp0dnn</td>\n",
       "      <td>59</td>\n",
       "      <td>9:30</td>\n",
       "      <td>0.012543</td>\n",
       "      <td>-5.237732</td>\n",
       "      <td>90.972290</td>\n",
       "      <td>9</td>\n",
       "      <td>30</td>\n",
       "    </tr>\n",
       "    <tr>\n",
       "      <th>2913817</th>\n",
       "      <td>qp0dnn</td>\n",
       "      <td>60</td>\n",
       "      <td>10:45</td>\n",
       "      <td>0.001280</td>\n",
       "      <td>-5.237732</td>\n",
       "      <td>90.972290</td>\n",
       "      <td>10</td>\n",
       "      <td>45</td>\n",
       "    </tr>\n",
       "    <tr>\n",
       "      <th>2564539</th>\n",
       "      <td>qp0dnn</td>\n",
       "      <td>60</td>\n",
       "      <td>11:0</td>\n",
       "      <td>0.045466</td>\n",
       "      <td>-5.237732</td>\n",
       "      <td>90.972290</td>\n",
       "      <td>11</td>\n",
       "      <td>0</td>\n",
       "    </tr>\n",
       "    <tr>\n",
       "      <th>988269</th>\n",
       "      <td>qp0dnn</td>\n",
       "      <td>60</td>\n",
       "      <td>11:15</td>\n",
       "      <td>0.029285</td>\n",
       "      <td>-5.237732</td>\n",
       "      <td>90.972290</td>\n",
       "      <td>11</td>\n",
       "      <td>15</td>\n",
       "    </tr>\n",
       "    <tr>\n",
       "      <th>1896685</th>\n",
       "      <td>qp0dnn</td>\n",
       "      <td>60</td>\n",
       "      <td>1:30</td>\n",
       "      <td>0.003741</td>\n",
       "      <td>-5.237732</td>\n",
       "      <td>90.972290</td>\n",
       "      <td>1</td>\n",
       "      <td>30</td>\n",
       "    </tr>\n",
       "    <tr>\n",
       "      <th>2110513</th>\n",
       "      <td>qp0dnn</td>\n",
       "      <td>61</td>\n",
       "      <td>9:0</td>\n",
       "      <td>0.000896</td>\n",
       "      <td>-5.237732</td>\n",
       "      <td>90.972290</td>\n",
       "      <td>9</td>\n",
       "      <td>0</td>\n",
       "    </tr>\n",
       "  </tbody>\n",
       "</table>\n",
       "<p>4206321 rows × 8 columns</p>\n",
       "</div>"
      ],
      "text/plain": [
       "        geohash6  day timestamp    demand  latitude  longitude hour min\n",
       "2021861   qp02yc    1     11:15  0.013487 -5.484924  90.653687   11  15\n",
       "1403484   qp02yc    1      12:0  0.003709 -5.484924  90.653687   12   0\n",
       "2873712   qp02yc    1      2:45  0.020592 -5.484924  90.653687    2  45\n",
       "2643238   qp02yc    1       3:0  0.010292 -5.484924  90.653687    3   0\n",
       "1791986   qp02yc    1       4:0  0.006676 -5.484924  90.653687    4   0\n",
       "4022333   qp02yc    1      4:30  0.003822 -5.484924  90.653687    4  30\n",
       "3848343   qp02yc    1      6:45  0.011131 -5.484924  90.653687    6  45\n",
       "1754613   qp02yc    2      12:0  0.006989 -5.484924  90.653687   12   0\n",
       "886989    qp02yc    2     22:45  0.031419 -5.484924  90.653687   22  45\n",
       "897330    qp02yc    2      4:30  0.011041 -5.484924  90.653687    4  30\n",
       "4014082   qp02yc    2       5:0  0.040743 -5.484924  90.653687    5   0\n",
       "2613081   qp02yc    2      8:45  0.026320 -5.484924  90.653687    8  45\n",
       "2319843   qp02yc    3      4:15  0.012687 -5.484924  90.653687    4  15\n",
       "2378396   qp02yc    3      5:15  0.027531 -5.484924  90.653687    5  15\n",
       "1185822   qp02yc    3      6:30  0.005432 -5.484924  90.653687    6  30\n",
       "3433787   qp02yc    3      6:45  0.037369 -5.484924  90.653687    6  45\n",
       "1131501   qp02yc    3       8:0  0.001456 -5.484924  90.653687    8   0\n",
       "4051660   qp02yc    3      8:30  0.014042 -5.484924  90.653687    8  30\n",
       "3588340   qp02yc    3      9:45  0.027179 -5.484924  90.653687    9  45\n",
       "207244    qp02yc    4     10:15  0.014625 -5.484924  90.653687   10  15\n",
       "1877045   qp02yc    4     10:45  0.022054 -5.484924  90.653687   10  45\n",
       "3572253   qp02yc    4      11:0  0.016541 -5.484924  90.653687   11   0\n",
       "639251    qp02yc    4     11:30  0.007581 -5.484924  90.653687   11  30\n",
       "279309    qp02yc    4      13:0  0.005394 -5.484924  90.653687   13   0\n",
       "1674368   qp02yc    4      3:30  0.018839 -5.484924  90.653687    3  30\n",
       "1295779   qp02yc    4       4:0  0.012716 -5.484924  90.653687    4   0\n",
       "1336225   qp02yc    4      4:15  0.029508 -5.484924  90.653687    4  15\n",
       "414668    qp02yc    4      4:30  0.057966 -5.484924  90.653687    4  30\n",
       "3129611   qp02yc    4       5:0  0.032100 -5.484924  90.653687    5   0\n",
       "1370043   qp02yc    4      5:15  0.021253 -5.484924  90.653687    5  15\n",
       "...          ...  ...       ...       ...       ...        ...  ...  ..\n",
       "1256345   qp0dnn   48     19:45  0.007751 -5.237732  90.972290   19  45\n",
       "1134175   qp0dnn   48      4:30  0.000738 -5.237732  90.972290    4  30\n",
       "4158551   qp0dnn   49     22:45  0.002617 -5.237732  90.972290   22  45\n",
       "3462907   qp0dnn   49      23:0  0.004067 -5.237732  90.972290   23   0\n",
       "3469170   qp0dnn   51      10:0  0.030558 -5.237732  90.972290   10   0\n",
       "2023048   qp0dnn   52     10:30  0.005091 -5.237732  90.972290   10  30\n",
       "1375887   qp0dnn   52      7:30  0.002420 -5.237732  90.972290    7  30\n",
       "2232297   qp0dnn   54      13:0  0.004463 -5.237732  90.972290   13   0\n",
       "3134720   qp0dnn   55     22:15  0.000550 -5.237732  90.972290   22  15\n",
       "454615    qp0dnn   56     10:15  0.016509 -5.237732  90.972290   10  15\n",
       "2070445   qp0dnn   56     10:30  0.005008 -5.237732  90.972290   10  30\n",
       "3235647   qp0dnn   56     10:45  0.026476 -5.237732  90.972290   10  45\n",
       "3842677   qp0dnn   56     11:15  0.015455 -5.237732  90.972290   11  15\n",
       "1924623   qp0dnn   56     22:30  0.012714 -5.237732  90.972290   22  30\n",
       "1754867   qp0dnn   56      9:15  0.015596 -5.237732  90.972290    9  15\n",
       "3442116   qp0dnn   56      9:30  0.016088 -5.237732  90.972290    9  30\n",
       "883595    qp0dnn   57      10:0  0.015804 -5.237732  90.972290   10   0\n",
       "2068134   qp0dnn   57     10:15  0.006540 -5.237732  90.972290   10  15\n",
       "3763207   qp0dnn   57     10:30  0.005616 -5.237732  90.972290   10  30\n",
       "3811470   qp0dnn   57      9:15  0.000220 -5.237732  90.972290    9  15\n",
       "3678995   qp0dnn   57      9:30  0.016268 -5.237732  90.972290    9  30\n",
       "2202839   qp0dnn   59     10:30  0.017128 -5.237732  90.972290   10  30\n",
       "2329890   qp0dnn   59       2:0  0.002340 -5.237732  90.972290    2   0\n",
       "2523853   qp0dnn   59      8:15  0.009144 -5.237732  90.972290    8  15\n",
       "673156    qp0dnn   59      9:30  0.012543 -5.237732  90.972290    9  30\n",
       "2913817   qp0dnn   60     10:45  0.001280 -5.237732  90.972290   10  45\n",
       "2564539   qp0dnn   60      11:0  0.045466 -5.237732  90.972290   11   0\n",
       "988269    qp0dnn   60     11:15  0.029285 -5.237732  90.972290   11  15\n",
       "1896685   qp0dnn   60      1:30  0.003741 -5.237732  90.972290    1  30\n",
       "2110513   qp0dnn   61       9:0  0.000896 -5.237732  90.972290    9   0\n",
       "\n",
       "[4206321 rows x 8 columns]"
      ]
     },
     "execution_count": 14,
     "metadata": {},
     "output_type": "execute_result"
    }
   ],
   "source": [
    "time_preperation(df)"
   ]
  },
  {
   "cell_type": "code",
   "execution_count": 15,
   "metadata": {},
   "outputs": [],
   "source": [
    "import math\n",
    "import pandas as pd"
   ]
  },
  {
   "cell_type": "code",
   "execution_count": 16,
   "metadata": {},
   "outputs": [],
   "source": [
    "df['hour'] = pd.to_numeric(df['hour'], errors='coerce')\n",
    "df['min'] = pd.to_numeric(df['min'], errors='coerce')"
   ]
  },
  {
   "cell_type": "code",
   "execution_count": 17,
   "metadata": {},
   "outputs": [],
   "source": [
    "df = df.dropna(subset=['hour'])\n",
    "df = df.dropna(subset=['min'])"
   ]
  },
  {
   "cell_type": "code",
   "execution_count": 18,
   "metadata": {},
   "outputs": [],
   "source": [
    "df['hour'] = df['hour'].astype('int64')\n",
    "df['min'] = df['min'].astype('int64')"
   ]
  },
  {
   "cell_type": "code",
   "execution_count": 19,
   "metadata": {},
   "outputs": [
    {
     "data": {
      "text/plain": [
       "geohash6      object\n",
       "day            int64\n",
       "timestamp     object\n",
       "demand       float64\n",
       "latitude     float64\n",
       "longitude    float64\n",
       "hour           int64\n",
       "min            int64\n",
       "dtype: object"
      ]
     },
     "execution_count": 19,
     "metadata": {},
     "output_type": "execute_result"
    }
   ],
   "source": [
    "df.dtypes"
   ]
  },
  {
   "cell_type": "code",
   "execution_count": 20,
   "metadata": {},
   "outputs": [],
   "source": [
    "def feature_generation_time(hour, min):\n",
    "    \n",
    "         \n",
    "    # minutes into a day \n",
    "     number_minutes = hour* 60 + min\n",
    "    \n",
    "    \n",
    "     b = 96 # number of time bins per day(one bin for every quarter of an hour)\n",
    "     minutes_per_bin = int((24 / float(b)) * 60)\n",
    "    \n",
    "    # the start of the time bin \n",
    "     time_bin = number_minutes / minutes_per_bin \n",
    "     hour_bin = number_minutes / 60\n",
    "     min_bin = (time_bin * minutes_per_bin) % 60\n",
    "        \n",
    "    # floating point representation of the center of the time bin\n",
    "     return (hour_bin*60 + min_bin + minutes_per_bin / 2.0)/(60*24)    "
   ]
  },
  {
   "cell_type": "code",
   "execution_count": 21,
   "metadata": {},
   "outputs": [],
   "source": [
    "df['time_num'] = df.apply(lambda row : feature_generation_time(row['hour'], \n",
    "                     row['min']), axis = 1)"
   ]
  },
  {
   "cell_type": "code",
   "execution_count": 22,
   "metadata": {},
   "outputs": [
    {
     "data": {
      "text/plain": [
       "2021861    0.484375\n",
       "1403484    0.505208\n",
       "2873712    0.151042\n",
       "2643238    0.130208\n",
       "1791986    0.171875\n",
       "Name: time_num, dtype: float64"
      ]
     },
     "execution_count": 22,
     "metadata": {},
     "output_type": "execute_result"
    }
   ],
   "source": [
    "df['time_num'].head(5)"
   ]
  },
  {
   "cell_type": "code",
   "execution_count": 23,
   "metadata": {},
   "outputs": [
    {
     "data": {
      "text/plain": [
       "geohash6      object\n",
       "day            int64\n",
       "timestamp     object\n",
       "demand       float64\n",
       "latitude     float64\n",
       "longitude    float64\n",
       "hour           int64\n",
       "min            int64\n",
       "time_num     float64\n",
       "dtype: object"
      ]
     },
     "execution_count": 23,
     "metadata": {},
     "output_type": "execute_result"
    }
   ],
   "source": [
    "df.dtypes"
   ]
  },
  {
   "cell_type": "code",
   "execution_count": 24,
   "metadata": {},
   "outputs": [],
   "source": [
    "import math"
   ]
  },
  {
   "cell_type": "code",
   "execution_count": 25,
   "metadata": {},
   "outputs": [],
   "source": [
    "def feature_generation_time_cos(row):\n",
    "     \n",
    "    return math.cos(row * 2 * math.pi)"
   ]
  },
  {
   "cell_type": "code",
   "execution_count": 26,
   "metadata": {},
   "outputs": [],
   "source": [
    "def feature_generation_time_sin(row):\n",
    "     \n",
    "    return math.sin(row * 2 * math.pi)"
   ]
  },
  {
   "cell_type": "code",
   "execution_count": 27,
   "metadata": {},
   "outputs": [],
   "source": [
    "df['cos_time'] = df.apply(lambda row : feature_generation_time_cos(row['time_num']), axis = 1)"
   ]
  },
  {
   "cell_type": "code",
   "execution_count": 28,
   "metadata": {},
   "outputs": [],
   "source": [
    "df['sin_time'] = df.apply(lambda row : feature_generation_time_sin(row['time_num']), axis = 1)"
   ]
  },
  {
   "cell_type": "code",
   "execution_count": 29,
   "metadata": {},
   "outputs": [
    {
     "data": {
      "text/plain": [
       "geohash6      object\n",
       "day            int64\n",
       "timestamp     object\n",
       "demand       float64\n",
       "latitude     float64\n",
       "longitude    float64\n",
       "hour           int64\n",
       "min            int64\n",
       "time_num     float64\n",
       "cos_time     float64\n",
       "sin_time     float64\n",
       "dtype: object"
      ]
     },
     "execution_count": 29,
     "metadata": {},
     "output_type": "execute_result"
    }
   ],
   "source": [
    "df.dtypes"
   ]
  },
  {
   "cell_type": "code",
   "execution_count": 30,
   "metadata": {},
   "outputs": [
    {
     "data": {
      "text/html": [
       "<div>\n",
       "<style scoped>\n",
       "    .dataframe tbody tr th:only-of-type {\n",
       "        vertical-align: middle;\n",
       "    }\n",
       "\n",
       "    .dataframe tbody tr th {\n",
       "        vertical-align: top;\n",
       "    }\n",
       "\n",
       "    .dataframe thead th {\n",
       "        text-align: right;\n",
       "    }\n",
       "</style>\n",
       "<table border=\"1\" class=\"dataframe\">\n",
       "  <thead>\n",
       "    <tr style=\"text-align: right;\">\n",
       "      <th></th>\n",
       "      <th>geohash6</th>\n",
       "      <th>day</th>\n",
       "      <th>timestamp</th>\n",
       "      <th>demand</th>\n",
       "      <th>latitude</th>\n",
       "      <th>longitude</th>\n",
       "      <th>hour</th>\n",
       "      <th>min</th>\n",
       "      <th>time_num</th>\n",
       "      <th>cos_time</th>\n",
       "      <th>sin_time</th>\n",
       "    </tr>\n",
       "  </thead>\n",
       "  <tbody>\n",
       "    <tr>\n",
       "      <th>2021861</th>\n",
       "      <td>qp02yc</td>\n",
       "      <td>1</td>\n",
       "      <td>11:15</td>\n",
       "      <td>0.013487</td>\n",
       "      <td>-5.484924</td>\n",
       "      <td>90.653687</td>\n",
       "      <td>11</td>\n",
       "      <td>15</td>\n",
       "      <td>0.484375</td>\n",
       "      <td>-0.995185</td>\n",
       "      <td>0.098017</td>\n",
       "    </tr>\n",
       "    <tr>\n",
       "      <th>1403484</th>\n",
       "      <td>qp02yc</td>\n",
       "      <td>1</td>\n",
       "      <td>12:0</td>\n",
       "      <td>0.003709</td>\n",
       "      <td>-5.484924</td>\n",
       "      <td>90.653687</td>\n",
       "      <td>12</td>\n",
       "      <td>0</td>\n",
       "      <td>0.505208</td>\n",
       "      <td>-0.999465</td>\n",
       "      <td>-0.032719</td>\n",
       "    </tr>\n",
       "    <tr>\n",
       "      <th>2873712</th>\n",
       "      <td>qp02yc</td>\n",
       "      <td>1</td>\n",
       "      <td>2:45</td>\n",
       "      <td>0.020592</td>\n",
       "      <td>-5.484924</td>\n",
       "      <td>90.653687</td>\n",
       "      <td>2</td>\n",
       "      <td>45</td>\n",
       "      <td>0.151042</td>\n",
       "      <td>0.582478</td>\n",
       "      <td>0.812847</td>\n",
       "    </tr>\n",
       "    <tr>\n",
       "      <th>2643238</th>\n",
       "      <td>qp02yc</td>\n",
       "      <td>1</td>\n",
       "      <td>3:0</td>\n",
       "      <td>0.010292</td>\n",
       "      <td>-5.484924</td>\n",
       "      <td>90.653687</td>\n",
       "      <td>3</td>\n",
       "      <td>0</td>\n",
       "      <td>0.130208</td>\n",
       "      <td>0.683592</td>\n",
       "      <td>0.729864</td>\n",
       "    </tr>\n",
       "    <tr>\n",
       "      <th>1791986</th>\n",
       "      <td>qp02yc</td>\n",
       "      <td>1</td>\n",
       "      <td>4:0</td>\n",
       "      <td>0.006676</td>\n",
       "      <td>-5.484924</td>\n",
       "      <td>90.653687</td>\n",
       "      <td>4</td>\n",
       "      <td>0</td>\n",
       "      <td>0.171875</td>\n",
       "      <td>0.471397</td>\n",
       "      <td>0.881921</td>\n",
       "    </tr>\n",
       "  </tbody>\n",
       "</table>\n",
       "</div>"
      ],
      "text/plain": [
       "        geohash6  day timestamp    demand  latitude  longitude  hour  min  \\\n",
       "2021861   qp02yc    1     11:15  0.013487 -5.484924  90.653687    11   15   \n",
       "1403484   qp02yc    1      12:0  0.003709 -5.484924  90.653687    12    0   \n",
       "2873712   qp02yc    1      2:45  0.020592 -5.484924  90.653687     2   45   \n",
       "2643238   qp02yc    1       3:0  0.010292 -5.484924  90.653687     3    0   \n",
       "1791986   qp02yc    1       4:0  0.006676 -5.484924  90.653687     4    0   \n",
       "\n",
       "         time_num  cos_time  sin_time  \n",
       "2021861  0.484375 -0.995185  0.098017  \n",
       "1403484  0.505208 -0.999465 -0.032719  \n",
       "2873712  0.151042  0.582478  0.812847  \n",
       "2643238  0.130208  0.683592  0.729864  \n",
       "1791986  0.171875  0.471397  0.881921  "
      ]
     },
     "execution_count": 30,
     "metadata": {},
     "output_type": "execute_result"
    }
   ],
   "source": [
    "df.head(5)"
   ]
  },
  {
   "cell_type": "code",
   "execution_count": 31,
   "metadata": {},
   "outputs": [],
   "source": [
    "day_list = [int (m) for m  in df['day']]"
   ]
  },
  {
   "cell_type": "code",
   "execution_count": 32,
   "metadata": {},
   "outputs": [],
   "source": [
    "day_index = []\n",
    "day_string = []\n",
    " \n",
    "for day in day_list:\n",
    "    if day % 7 == 1:\n",
    "        day_index.append(1)\n",
    "       #day_string.append(\"Tuesday\")\n",
    "    elif day % 7 == 2:\n",
    "        day_index.append(2)\n",
    "        #day_string.append(\"Wednesday\") \n",
    "    elif day % 7 == 3:  \n",
    "        day_index.append(3)\n",
    "        #day_string.append(\"Thursday\")\n",
    "    elif day % 7 == 4:\n",
    "        day_index.append(4)\n",
    "        #day_string.append(\"Friday\")\n",
    "    elif day % 7 == 5:\n",
    "        day_index.append(5)\n",
    "        #day_string.append(\"Saturday\")\n",
    "    elif day % 7 == 6:\n",
    "        day_index.append(6)\n",
    "        #day_string.append(\"Sunday\")\n",
    "    elif day % 7 == 0:\n",
    "        day_index.append(0)\n",
    "        #day_string.append(\"Monday\")"
   ]
  },
  {
   "cell_type": "code",
   "execution_count": 33,
   "metadata": {},
   "outputs": [],
   "source": [
    "def feature_generation_date(num_time, index):\n",
    "    \n",
    "    return (num_time + index)/7.0"
   ]
  },
  {
   "cell_type": "code",
   "execution_count": 34,
   "metadata": {},
   "outputs": [],
   "source": [
    "df['day_index'] = day_index"
   ]
  },
  {
   "cell_type": "code",
   "execution_count": 35,
   "metadata": {},
   "outputs": [],
   "source": [
    "df['day_num'] = df.apply(lambda row : feature_generation_date(row['time_num'], \n",
    "                     row['day_index']), axis = 1)"
   ]
  },
  {
   "cell_type": "code",
   "execution_count": 36,
   "metadata": {},
   "outputs": [],
   "source": [
    "def feature_generation_date_cos(row):\n",
    "     \n",
    "    return math.cos(row * 2 * math.pi)"
   ]
  },
  {
   "cell_type": "code",
   "execution_count": 37,
   "metadata": {},
   "outputs": [],
   "source": [
    "def feature_generation_date_sin(row):\n",
    "     \n",
    "    return math.sin(row * 2 * math.pi)"
   ]
  },
  {
   "cell_type": "code",
   "execution_count": 38,
   "metadata": {},
   "outputs": [],
   "source": [
    "df['day_sin'] = df.apply(lambda row : feature_generation_date_sin(row['day_num']), axis = 1)"
   ]
  },
  {
   "cell_type": "code",
   "execution_count": 39,
   "metadata": {},
   "outputs": [],
   "source": [
    "df['day_cos'] = df.apply(lambda row : feature_generation_date_cos(row['day_num']), axis = 1)"
   ]
  },
  {
   "cell_type": "code",
   "execution_count": 40,
   "metadata": {},
   "outputs": [
    {
     "data": {
      "text/html": [
       "<div>\n",
       "<style scoped>\n",
       "    .dataframe tbody tr th:only-of-type {\n",
       "        vertical-align: middle;\n",
       "    }\n",
       "\n",
       "    .dataframe tbody tr th {\n",
       "        vertical-align: top;\n",
       "    }\n",
       "\n",
       "    .dataframe thead th {\n",
       "        text-align: right;\n",
       "    }\n",
       "</style>\n",
       "<table border=\"1\" class=\"dataframe\">\n",
       "  <thead>\n",
       "    <tr style=\"text-align: right;\">\n",
       "      <th></th>\n",
       "      <th>geohash6</th>\n",
       "      <th>day</th>\n",
       "      <th>timestamp</th>\n",
       "      <th>demand</th>\n",
       "      <th>latitude</th>\n",
       "      <th>longitude</th>\n",
       "      <th>hour</th>\n",
       "      <th>min</th>\n",
       "      <th>time_num</th>\n",
       "      <th>cos_time</th>\n",
       "      <th>sin_time</th>\n",
       "      <th>day_index</th>\n",
       "      <th>day_num</th>\n",
       "      <th>day_sin</th>\n",
       "      <th>day_cos</th>\n",
       "    </tr>\n",
       "  </thead>\n",
       "  <tbody>\n",
       "    <tr>\n",
       "      <th>2021861</th>\n",
       "      <td>qp02yc</td>\n",
       "      <td>1</td>\n",
       "      <td>11:15</td>\n",
       "      <td>0.013487</td>\n",
       "      <td>-5.484924</td>\n",
       "      <td>90.653687</td>\n",
       "      <td>11</td>\n",
       "      <td>15</td>\n",
       "      <td>0.484375</td>\n",
       "      <td>-0.995185</td>\n",
       "      <td>0.098017</td>\n",
       "      <td>1</td>\n",
       "      <td>0.212054</td>\n",
       "      <td>0.971711</td>\n",
       "      <td>0.236172</td>\n",
       "    </tr>\n",
       "    <tr>\n",
       "      <th>1403484</th>\n",
       "      <td>qp02yc</td>\n",
       "      <td>1</td>\n",
       "      <td>12:0</td>\n",
       "      <td>0.003709</td>\n",
       "      <td>-5.484924</td>\n",
       "      <td>90.653687</td>\n",
       "      <td>12</td>\n",
       "      <td>0</td>\n",
       "      <td>0.505208</td>\n",
       "      <td>-0.999465</td>\n",
       "      <td>-0.032719</td>\n",
       "      <td>1</td>\n",
       "      <td>0.215030</td>\n",
       "      <td>0.975958</td>\n",
       "      <td>0.217961</td>\n",
       "    </tr>\n",
       "    <tr>\n",
       "      <th>2873712</th>\n",
       "      <td>qp02yc</td>\n",
       "      <td>1</td>\n",
       "      <td>2:45</td>\n",
       "      <td>0.020592</td>\n",
       "      <td>-5.484924</td>\n",
       "      <td>90.653687</td>\n",
       "      <td>2</td>\n",
       "      <td>45</td>\n",
       "      <td>0.151042</td>\n",
       "      <td>0.582478</td>\n",
       "      <td>0.812847</td>\n",
       "      <td>1</td>\n",
       "      <td>0.164435</td>\n",
       "      <td>0.858928</td>\n",
       "      <td>0.512096</td>\n",
       "    </tr>\n",
       "    <tr>\n",
       "      <th>2643238</th>\n",
       "      <td>qp02yc</td>\n",
       "      <td>1</td>\n",
       "      <td>3:0</td>\n",
       "      <td>0.010292</td>\n",
       "      <td>-5.484924</td>\n",
       "      <td>90.653687</td>\n",
       "      <td>3</td>\n",
       "      <td>0</td>\n",
       "      <td>0.130208</td>\n",
       "      <td>0.683592</td>\n",
       "      <td>0.729864</td>\n",
       "      <td>1</td>\n",
       "      <td>0.161458</td>\n",
       "      <td>0.849202</td>\n",
       "      <td>0.528068</td>\n",
       "    </tr>\n",
       "    <tr>\n",
       "      <th>1791986</th>\n",
       "      <td>qp02yc</td>\n",
       "      <td>1</td>\n",
       "      <td>4:0</td>\n",
       "      <td>0.006676</td>\n",
       "      <td>-5.484924</td>\n",
       "      <td>90.653687</td>\n",
       "      <td>4</td>\n",
       "      <td>0</td>\n",
       "      <td>0.171875</td>\n",
       "      <td>0.471397</td>\n",
       "      <td>0.881921</td>\n",
       "      <td>1</td>\n",
       "      <td>0.167411</td>\n",
       "      <td>0.868353</td>\n",
       "      <td>0.495946</td>\n",
       "    </tr>\n",
       "  </tbody>\n",
       "</table>\n",
       "</div>"
      ],
      "text/plain": [
       "        geohash6  day timestamp    demand  latitude  longitude  hour  min  \\\n",
       "2021861   qp02yc    1     11:15  0.013487 -5.484924  90.653687    11   15   \n",
       "1403484   qp02yc    1      12:0  0.003709 -5.484924  90.653687    12    0   \n",
       "2873712   qp02yc    1      2:45  0.020592 -5.484924  90.653687     2   45   \n",
       "2643238   qp02yc    1       3:0  0.010292 -5.484924  90.653687     3    0   \n",
       "1791986   qp02yc    1       4:0  0.006676 -5.484924  90.653687     4    0   \n",
       "\n",
       "         time_num  cos_time  sin_time  day_index   day_num   day_sin   day_cos  \n",
       "2021861  0.484375 -0.995185  0.098017          1  0.212054  0.971711  0.236172  \n",
       "1403484  0.505208 -0.999465 -0.032719          1  0.215030  0.975958  0.217961  \n",
       "2873712  0.151042  0.582478  0.812847          1  0.164435  0.858928  0.512096  \n",
       "2643238  0.130208  0.683592  0.729864          1  0.161458  0.849202  0.528068  \n",
       "1791986  0.171875  0.471397  0.881921          1  0.167411  0.868353  0.495946  "
      ]
     },
     "execution_count": 40,
     "metadata": {},
     "output_type": "execute_result"
    }
   ],
   "source": [
    "df.head(5)"
   ]
  },
  {
   "cell_type": "code",
   "execution_count": 41,
   "metadata": {},
   "outputs": [
    {
     "data": {
      "text/plain": [
       "geohash6      object\n",
       "day            int64\n",
       "timestamp     object\n",
       "demand       float64\n",
       "latitude     float64\n",
       "longitude    float64\n",
       "hour           int64\n",
       "min            int64\n",
       "time_num     float64\n",
       "cos_time     float64\n",
       "sin_time     float64\n",
       "day_index      int64\n",
       "day_num      float64\n",
       "day_sin      float64\n",
       "day_cos      float64\n",
       "dtype: object"
      ]
     },
     "execution_count": 41,
     "metadata": {},
     "output_type": "execute_result"
    }
   ],
   "source": [
    "df.dtypes"
   ]
  },
  {
   "cell_type": "code",
   "execution_count": 42,
   "metadata": {},
   "outputs": [],
   "source": [
    "from sklearn.model_selection import GridSearchCV\n",
    "from sklearn.model_selection import train_test_split\n",
    "from sklearn.metrics import confusion_matrix\n",
    "from sklearn.ensemble import RandomForestRegressor\n",
    "from sklearn.pipeline import Pipeline\n",
    "from sklearn.model_selection import cross_val_score\n",
    "from sklearn.metrics import mean_squared_error\n",
    "import random"
   ]
  },
  {
   "cell_type": "code",
   "execution_count": 43,
   "metadata": {},
   "outputs": [],
   "source": [
    "# Funtion for cross-validation over a grid of parameters\n",
    "\n",
    "def cv_optimize(clf, parameters, X, y, n_jobs=1, n_folds=5, score_func=None, verbose=0):\n",
    "    if score_func:\n",
    "        gs = GridSearchCV(clf, param_grid=parameters, cv=n_folds, n_jobs=n_jobs, scoring=score_func, verbose=verbose)\n",
    "    else:\n",
    "        gs = GridSearchCV(clf, param_grid=parameters, n_jobs=n_jobs, cv=n_folds, verbose=verbose)\n",
    "    gs.fit(X, y)\n",
    "    print(\"BEST\", gs.best_params_, gs.best_score_, gs.cv_results_, gs.scorer_)\n",
    "    print(\"Best score: \", gs.best_score_)\n",
    "    best = gs.best_estimator_\n",
    "    return best"
   ]
  },
  {
   "cell_type": "code",
   "execution_count": 45,
   "metadata": {},
   "outputs": [],
   "source": [
    "df_sample = df.sample(300000, random_state=1)"
   ]
  },
  {
   "cell_type": "code",
   "execution_count": 46,
   "metadata": {},
   "outputs": [],
   "source": [
    "X = df_sample"
   ]
  },
  {
   "cell_type": "code",
   "execution_count": 47,
   "metadata": {},
   "outputs": [],
   "source": [
    "X = X.drop(['demand', 'geohash6', 'timestamp'], axis=1)"
   ]
  },
  {
   "cell_type": "code",
   "execution_count": 48,
   "metadata": {},
   "outputs": [
    {
     "data": {
      "text/html": [
       "<div>\n",
       "<style scoped>\n",
       "    .dataframe tbody tr th:only-of-type {\n",
       "        vertical-align: middle;\n",
       "    }\n",
       "\n",
       "    .dataframe tbody tr th {\n",
       "        vertical-align: top;\n",
       "    }\n",
       "\n",
       "    .dataframe thead th {\n",
       "        text-align: right;\n",
       "    }\n",
       "</style>\n",
       "<table border=\"1\" class=\"dataframe\">\n",
       "  <thead>\n",
       "    <tr style=\"text-align: right;\">\n",
       "      <th></th>\n",
       "      <th>day</th>\n",
       "      <th>latitude</th>\n",
       "      <th>longitude</th>\n",
       "      <th>hour</th>\n",
       "      <th>min</th>\n",
       "      <th>time_num</th>\n",
       "      <th>cos_time</th>\n",
       "      <th>sin_time</th>\n",
       "      <th>day_index</th>\n",
       "      <th>day_num</th>\n",
       "      <th>day_sin</th>\n",
       "      <th>day_cos</th>\n",
       "    </tr>\n",
       "  </thead>\n",
       "  <tbody>\n",
       "    <tr>\n",
       "      <th>2254808</th>\n",
       "      <td>3</td>\n",
       "      <td>-5.369568</td>\n",
       "      <td>90.708618</td>\n",
       "      <td>23</td>\n",
       "      <td>45</td>\n",
       "      <td>1.026042</td>\n",
       "      <td>0.986643</td>\n",
       "      <td>0.162895</td>\n",
       "      <td>3</td>\n",
       "      <td>0.575149</td>\n",
       "      <td>-0.454823</td>\n",
       "      <td>-0.890582</td>\n",
       "    </tr>\n",
       "    <tr>\n",
       "      <th>73022</th>\n",
       "      <td>13</td>\n",
       "      <td>-5.402527</td>\n",
       "      <td>90.829468</td>\n",
       "      <td>10</td>\n",
       "      <td>45</td>\n",
       "      <td>0.484375</td>\n",
       "      <td>-0.995185</td>\n",
       "      <td>0.098017</td>\n",
       "      <td>6</td>\n",
       "      <td>0.926339</td>\n",
       "      <td>-0.446477</td>\n",
       "      <td>0.894795</td>\n",
       "    </tr>\n",
       "    <tr>\n",
       "      <th>2733566</th>\n",
       "      <td>24</td>\n",
       "      <td>-5.281677</td>\n",
       "      <td>90.752563</td>\n",
       "      <td>3</td>\n",
       "      <td>30</td>\n",
       "      <td>0.171875</td>\n",
       "      <td>0.471397</td>\n",
       "      <td>0.881921</td>\n",
       "      <td>3</td>\n",
       "      <td>0.453125</td>\n",
       "      <td>0.290285</td>\n",
       "      <td>-0.956940</td>\n",
       "    </tr>\n",
       "    <tr>\n",
       "      <th>210961</th>\n",
       "      <td>17</td>\n",
       "      <td>-5.281677</td>\n",
       "      <td>90.906372</td>\n",
       "      <td>23</td>\n",
       "      <td>0</td>\n",
       "      <td>0.963542</td>\n",
       "      <td>0.973877</td>\n",
       "      <td>-0.227076</td>\n",
       "      <td>3</td>\n",
       "      <td>0.566220</td>\n",
       "      <td>-0.404173</td>\n",
       "      <td>-0.914683</td>\n",
       "    </tr>\n",
       "    <tr>\n",
       "      <th>4071587</th>\n",
       "      <td>48</td>\n",
       "      <td>-5.320129</td>\n",
       "      <td>90.840454</td>\n",
       "      <td>14</td>\n",
       "      <td>0</td>\n",
       "      <td>0.588542</td>\n",
       "      <td>-0.849202</td>\n",
       "      <td>-0.528068</td>\n",
       "      <td>6</td>\n",
       "      <td>0.941220</td>\n",
       "      <td>-0.360985</td>\n",
       "      <td>0.932572</td>\n",
       "    </tr>\n",
       "  </tbody>\n",
       "</table>\n",
       "</div>"
      ],
      "text/plain": [
       "         day  latitude  longitude  hour  min  time_num  cos_time  sin_time  \\\n",
       "2254808    3 -5.369568  90.708618    23   45  1.026042  0.986643  0.162895   \n",
       "73022     13 -5.402527  90.829468    10   45  0.484375 -0.995185  0.098017   \n",
       "2733566   24 -5.281677  90.752563     3   30  0.171875  0.471397  0.881921   \n",
       "210961    17 -5.281677  90.906372    23    0  0.963542  0.973877 -0.227076   \n",
       "4071587   48 -5.320129  90.840454    14    0  0.588542 -0.849202 -0.528068   \n",
       "\n",
       "         day_index   day_num   day_sin   day_cos  \n",
       "2254808          3  0.575149 -0.454823 -0.890582  \n",
       "73022            6  0.926339 -0.446477  0.894795  \n",
       "2733566          3  0.453125  0.290285 -0.956940  \n",
       "210961           3  0.566220 -0.404173 -0.914683  \n",
       "4071587          6  0.941220 -0.360985  0.932572  "
      ]
     },
     "execution_count": 48,
     "metadata": {},
     "output_type": "execute_result"
    }
   ],
   "source": [
    "X.head(5)"
   ]
  },
  {
   "cell_type": "code",
   "execution_count": 49,
   "metadata": {},
   "outputs": [
    {
     "data": {
      "text/plain": [
       "(300000, 12)"
      ]
     },
     "execution_count": 49,
     "metadata": {},
     "output_type": "execute_result"
    }
   ],
   "source": [
    "X.shape"
   ]
  },
  {
   "cell_type": "code",
   "execution_count": 50,
   "metadata": {},
   "outputs": [],
   "source": [
    "y = df_sample['demand'].values"
   ]
  },
  {
   "cell_type": "code",
   "execution_count": 51,
   "metadata": {},
   "outputs": [
    {
     "data": {
      "text/plain": [
       "(300000,)"
      ]
     },
     "execution_count": 51,
     "metadata": {},
     "output_type": "execute_result"
    }
   ],
   "source": [
    "y.shape"
   ]
  },
  {
   "cell_type": "code",
   "execution_count": 52,
   "metadata": {},
   "outputs": [
    {
     "name": "stderr",
     "output_type": "stream",
     "text": [
      "/home/ec2-user/anaconda3/envs/amazonei_tensorflow_p36/lib/python3.6/site-packages/sklearn/model_selection/_split.py:2179: FutureWarning: From version 0.21, test_size will always complement train_size unless both are specified.\n",
      "  FutureWarning)\n"
     ]
    }
   ],
   "source": [
    "itrain, itest = train_test_split(range(df_sample.shape[0]), train_size=0.8)"
   ]
  },
  {
   "cell_type": "code",
   "execution_count": 53,
   "metadata": {},
   "outputs": [
    {
     "data": {
      "text/plain": [
       "array([ True,  True,  True,  True,  True,  True, False, False, False,\n",
       "        True])"
      ]
     },
     "execution_count": 53,
     "metadata": {},
     "output_type": "execute_result"
    }
   ],
   "source": [
    "mask=np.ones(df_sample.shape[0], dtype='int')\n",
    "mask[itrain]=1\n",
    "mask[itest]=0\n",
    "mask = (mask==1)\n",
    "mask[:10]"
   ]
  },
  {
   "cell_type": "code",
   "execution_count": 54,
   "metadata": {},
   "outputs": [
    {
     "name": "stdout",
     "output_type": "stream",
     "text": [
      "(240000, 12)\n"
     ]
    }
   ],
   "source": [
    "Xtrain, Xtest, ytrain, ytest = X[mask], X[~mask], y[mask], y[~mask]\n",
    "n_samples = Xtrain.shape[0]\n",
    "n_features = Xtrain.shape[1]\n",
    "print(Xtrain.shape)"
   ]
  },
  {
   "cell_type": "code",
   "execution_count": 55,
   "metadata": {},
   "outputs": [],
   "source": [
    "# Create a Random Forest Regression estimator\n",
    "estimator = RandomForestRegressor(n_estimators=20, n_jobs=-1, max_features = 'sqrt')"
   ]
  },
  {
   "cell_type": "code",
   "execution_count": 56,
   "metadata": {},
   "outputs": [],
   "source": [
    "from sklearn.metrics import mean_squared_error\n",
    "from sklearn.metrics import make_scorer"
   ]
  },
  {
   "cell_type": "code",
   "execution_count": 57,
   "metadata": {},
   "outputs": [
    {
     "data": {
      "text/plain": [
       "(240000, 12)"
      ]
     },
     "execution_count": 57,
     "metadata": {},
     "output_type": "execute_result"
    }
   ],
   "source": [
    "Xtrain.shape"
   ]
  },
  {
   "cell_type": "code",
   "execution_count": 58,
   "metadata": {},
   "outputs": [
    {
     "data": {
      "text/plain": [
       "(240000,)"
      ]
     },
     "execution_count": 58,
     "metadata": {},
     "output_type": "execute_result"
    }
   ],
   "source": [
    "ytrain.shape"
   ]
  },
  {
   "cell_type": "code",
   "execution_count": 59,
   "metadata": {},
   "outputs": [
    {
     "name": "stdout",
     "output_type": "stream",
     "text": [
      "Fitting 5 folds for each of 1 candidates, totalling 5 fits\n",
      "[CV] max_depth=50, max_features=auto, n_estimators=50 ................\n"
     ]
    },
    {
     "name": "stderr",
     "output_type": "stream",
     "text": [
      "[Parallel(n_jobs=1)]: Using backend SequentialBackend with 1 concurrent workers.\n"
     ]
    },
    {
     "name": "stdout",
     "output_type": "stream",
     "text": [
      "[CV]  max_depth=50, max_features=auto, n_estimators=50, score=0.002597531108697959, total=  34.7s\n",
      "[CV] max_depth=50, max_features=auto, n_estimators=50 ................\n"
     ]
    },
    {
     "name": "stderr",
     "output_type": "stream",
     "text": [
      "[Parallel(n_jobs=1)]: Done   1 out of   1 | elapsed:   36.9s remaining:    0.0s\n"
     ]
    },
    {
     "name": "stdout",
     "output_type": "stream",
     "text": [
      "[CV]  max_depth=50, max_features=auto, n_estimators=50, score=0.00257392560307822, total=  33.6s\n",
      "[CV] max_depth=50, max_features=auto, n_estimators=50 ................\n"
     ]
    },
    {
     "name": "stderr",
     "output_type": "stream",
     "text": [
      "[Parallel(n_jobs=1)]: Done   2 out of   2 | elapsed:  1.2min remaining:    0.0s\n"
     ]
    },
    {
     "name": "stdout",
     "output_type": "stream",
     "text": [
      "[CV]  max_depth=50, max_features=auto, n_estimators=50, score=0.0025619016849625278, total=  35.0s\n",
      "[CV] max_depth=50, max_features=auto, n_estimators=50 ................\n",
      "[CV]  max_depth=50, max_features=auto, n_estimators=50, score=0.002646067135836772, total=  33.9s\n",
      "[CV] max_depth=50, max_features=auto, n_estimators=50 ................\n",
      "[CV]  max_depth=50, max_features=auto, n_estimators=50, score=0.002577130653093484, total=  33.8s\n"
     ]
    },
    {
     "name": "stderr",
     "output_type": "stream",
     "text": [
      "[Parallel(n_jobs=1)]: Done   5 out of   5 | elapsed:  3.0min finished\n"
     ]
    },
    {
     "name": "stdout",
     "output_type": "stream",
     "text": [
      "BEST {'max_depth': 50, 'max_features': 'auto', 'n_estimators': 50} 0.0025913112371337924 {'mean_fit_time': array([33.58397727]), 'std_fit_time': array([0.53114054]), 'mean_score_time': array([0.62692118]), 'std_score_time': array([0.03957861]), 'param_max_depth': masked_array(data=[50],\n",
      "             mask=[False],\n",
      "       fill_value='?',\n",
      "            dtype=object), 'param_max_features': masked_array(data=['auto'],\n",
      "             mask=[False],\n",
      "       fill_value='?',\n",
      "            dtype=object), 'param_n_estimators': masked_array(data=[50],\n",
      "             mask=[False],\n",
      "       fill_value='?',\n",
      "            dtype=object), 'params': [{'max_depth': 50, 'max_features': 'auto', 'n_estimators': 50}], 'split0_test_score': array([0.00259753]), 'split1_test_score': array([0.00257393]), 'split2_test_score': array([0.0025619]), 'split3_test_score': array([0.00264607]), 'split4_test_score': array([0.00257713]), 'mean_test_score': array([0.00259131]), 'std_test_score': array([2.96822042e-05]), 'rank_test_score': array([1], dtype=int32), 'split0_train_score': array([0.0003693]), 'split1_train_score': array([0.00037907]), 'split2_train_score': array([0.00037438]), 'split3_train_score': array([0.00038311]), 'split4_train_score': array([0.00037001]), 'mean_train_score': array([0.00037518]), 'std_train_score': array([5.28810333e-06])} make_scorer(mean_squared_error)\n",
      "Best score:  0.0025913112371337924\n",
      "CPU times: user 1min 50s, sys: 2.51 s, total: 1min 52s\n",
      "Wall time: 3min 42s\n"
     ]
    }
   ],
   "source": [
    "%%time\n",
    "# Define a grid of parameters over which to optimize the random forest\n",
    "# We will figure out which number of trees is optimal\n",
    "parameters = {\"n_estimators\": [50],\n",
    "              \"max_features\": [\"auto\"], # [\"auto\",\"sqrt\",\"log2\"]\n",
    "              \"max_depth\": [50]}\n",
    "best = cv_optimize(estimator, parameters, Xtrain, ytrain, n_folds=5, score_func= make_scorer(mean_squared_error), verbose=3)"
   ]
  },
  {
   "cell_type": "code",
   "execution_count": 60,
   "metadata": {},
   "outputs": [
    {
     "name": "stdout",
     "output_type": "stream",
     "text": [
      "R^2 on training data: 0.9859\n",
      "R^2 on test data:     0.9054\n"
     ]
    }
   ],
   "source": [
    "# Fit the best Random Forest and calculate R^2 values for training and test sets\n",
    "reg=best.fit(Xtrain, ytrain)\n",
    "training_accuracy = reg.score(Xtrain, ytrain)\n",
    "test_accuracy = reg.score(Xtest, ytest)\n",
    "\n",
    "print(\"R^2 on training data: %0.4f\" % (training_accuracy))\n",
    "print(\"R^2 on test data:     %0.4f\" % (test_accuracy)) "
   ]
  },
  {
   "cell_type": "code",
   "execution_count": 61,
   "metadata": {},
   "outputs": [
    {
     "name": "stdout",
     "output_type": "stream",
     "text": [
      "0.049093098661663274\n"
     ]
    }
   ],
   "source": [
    "# Calculate the Root Mean Squared Error\n",
    "rmse = np.sqrt(mean_squared_error(reg.predict(Xtest),ytest))\n",
    "print(rmse)"
   ]
  },
  {
   "cell_type": "code",
   "execution_count": 62,
   "metadata": {},
   "outputs": [],
   "source": [
    "#most important features"
   ]
  },
  {
   "cell_type": "code",
   "execution_count": 63,
   "metadata": {},
   "outputs": [
    {
     "data": {
      "text/plain": [
       "[('latitude', 0.3849260571199068),\n",
       " ('longitude', 0.3789506918660135),\n",
       " ('hour', 0.05045571736364868),\n",
       " ('day', 0.038715351577986265),\n",
       " ('time_num', 0.028656979857700958),\n",
       " ('cos_time', 0.027445762438575712),\n",
       " ('day_cos', 0.023449176430831473),\n",
       " ('day_num', 0.022624781032002477),\n",
       " ('day_sin', 0.019526334770635062),\n",
       " ('sin_time', 0.01425582340199766),\n",
       " ('min', 0.006764707787049421),\n",
       " ('day_index', 0.004228616353652008)]"
      ]
     },
     "execution_count": 63,
     "metadata": {},
     "output_type": "execute_result"
    }
   ],
   "source": [
    "import operator\n",
    "dict_feat_imp = dict(zip(list(X.columns.values),reg.feature_importances_))\n",
    "\n",
    "sorted_features = sorted(dict_feat_imp.items(), key=operator.itemgetter(1), reverse=True)\n",
    "sorted_features"
   ]
  },
  {
   "cell_type": "code",
   "execution_count": null,
   "metadata": {},
   "outputs": [],
   "source": []
  }
 ],
 "metadata": {
  "kernelspec": {
   "display_name": "conda_amazonei_tensorflow_p36",
   "language": "python",
   "name": "conda_amazonei_tensorflow_p36"
  },
  "language_info": {
   "codemirror_mode": {
    "name": "ipython",
    "version": 3
   },
   "file_extension": ".py",
   "mimetype": "text/x-python",
   "name": "python",
   "nbconvert_exporter": "python",
   "pygments_lexer": "ipython3",
   "version": "3.6.5"
  }
 },
 "nbformat": 4,
 "nbformat_minor": 2
}
